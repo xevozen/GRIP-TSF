{
 "cells": [
  {
   "cell_type": "markdown",
   "id": "a1bff541",
   "metadata": {},
   "source": [
    "# This is part of GRIP - June '21 Assignment"
   ]
  },
  {
   "cell_type": "markdown",
   "id": "a0ac7429",
   "metadata": {},
   "source": [
    "##### Data Set : http://bit.ly/w-data\n",
    "##### Author : Souhardhya Paul (xevozen)\n",
    "##### Prediction using Supervised ML"
   ]
  },
  {
   "cell_type": "code",
   "execution_count": 26,
   "id": "ec3ffc2e",
   "metadata": {},
   "outputs": [],
   "source": [
    "import matplotlib.pyplot as plt\n",
    "import numpy as np\n",
    "import pandas as pd\n",
    "from sklearn import linear_model\n",
    "from sklearn.metrics import mean_squared_error, r2_score\n",
    "from sklearn.model_selection import train_test_split"
   ]
  },
  {
   "cell_type": "markdown",
   "id": "2fbd783f",
   "metadata": {},
   "source": [
    "#### Importing Dataset"
   ]
  },
  {
   "cell_type": "code",
   "execution_count": 27,
   "id": "20d367b1",
   "metadata": {},
   "outputs": [],
   "source": [
    "df = pd.read_csv('student_scores.csv')\n",
    "df = df.loc[:, [\"Hours\", \"Scores\"]]"
   ]
  },
  {
   "cell_type": "markdown",
   "id": "daafd163",
   "metadata": {},
   "source": [
    "#### Visualising Dataset"
   ]
  },
  {
   "cell_type": "code",
   "execution_count": 28,
   "id": "a6dbf498",
   "metadata": {},
   "outputs": [
    {
     "data": {
      "image/png": "[encoded data removed]",
      "text/plain": [
       "<Figure size 432x288 with 1 Axes>"
      ]
     },
     "metadata": {
      "needs_background": "light"
     },
     "output_type": "display_data"
    }
   ],
   "source": [
    "plt.scatter(df['Hours'],df['Scores'],color='blue')\n",
    "plt.xlabel(\"Hours studied\")\n",
    "plt.ylabel(\"Marks scored\")\n",
    "plt.show()"
   ]
  },
  {
   "cell_type": "markdown",
   "id": "896ba801",
   "metadata": {},
   "source": [
    "#### Preparing the data"
   ]
  },
  {
   "cell_type": "code",
   "execution_count": 29,
   "id": "2af1a57e",
   "metadata": {},
   "outputs": [],
   "source": [
    "x = np.array(df[\"Hours\"]).reshape(25,1)\n",
    "y = np.array(df[\"Scores\"]).reshape(25,1)\n",
    "\n",
    "x_train,x_test,y_train,y_test = train_test_split(x,y,test_size = 0.25)"
   ]
  },
  {
   "cell_type": "markdown",
   "id": "d65425ae",
   "metadata": {},
   "source": [
    "#### Model Creation"
   ]
  },
  {
   "cell_type": "code",
   "execution_count": 30,
   "id": "36d292be",
   "metadata": {},
   "outputs": [],
   "source": [
    "# Create linear regression object\n",
    "regr = linear_model.LinearRegression()"
   ]
  },
  {
   "cell_type": "markdown",
   "id": "91d5fffb",
   "metadata": {},
   "source": [
    "#### Model Training"
   ]
  },
  {
   "cell_type": "code",
   "execution_count": 31,
   "id": "d9ac0dbb",
   "metadata": {},
   "outputs": [
    {
     "data": {
      "text/plain": [
       "LinearRegression()"
      ]
     },
     "execution_count": 31,
     "metadata": {},
     "output_type": "execute_result"
    }
   ],
   "source": [
    "# Train the model using the training sets\n",
    "regr.fit(x_train, y_train)"
   ]
  },
  {
   "cell_type": "markdown",
   "id": "13599006",
   "metadata": {},
   "source": [
    "#### Make Predictions"
   ]
  },
  {
   "cell_type": "code",
   "execution_count": 32,
   "id": "7976abd0",
   "metadata": {},
   "outputs": [],
   "source": [
    "# Make predictions using the testing set\n",
    "y_pred = regr.predict(x_test)"
   ]
  },
  {
   "cell_type": "code",
   "execution_count": 33,
   "id": "65b26739",
   "metadata": {},
   "outputs": [
    {
     "name": "stdout",
     "output_type": "stream",
     "text": [
      "Coefficients: \n",
      " [[9.29441061]]\n",
      "Mean squared error: 37.50\n",
      "Coefficient of determination: 0.96\n"
     ]
    }
   ],
   "source": [
    "# The coefficients\n",
    "print('Coefficients: \\n', regr.coef_)\n",
    "# The mean squared error\n",
    "print('Mean squared error: %.2f'\n",
    "      % mean_squared_error(y_test, y_pred))\n",
    "# The coefficient of determination: 1 is perfect prediction\n",
    "print('Coefficient of determination: %.2f'\n",
    "      % r2_score(y_test, y_pred))"
   ]
  },
  {
   "cell_type": "markdown",
   "id": "da03b12e",
   "metadata": {},
   "source": [
    "#### Visualising Model performance"
   ]
  },
  {
   "cell_type": "code",
   "execution_count": 34,
   "id": "c969934b",
   "metadata": {},
   "outputs": [
    {
     "data": {
      "image/png": "[encoded data removed]",
      "text/plain": [
       "<Figure size 432x288 with 1 Axes>"
      ]
     },
     "metadata": {
      "needs_background": "light"
     },
     "output_type": "display_data"
    }
   ],
   "source": [
    "pred_scores = regr.predict(x)\n",
    "plt.scatter(df['Hours'],df['Scores'],color='blue')\n",
    "plt.xlabel(\"Hours studied\")\n",
    "plt.ylabel(\"Marks scored\")\n",
    "plt.plot(x,pred_scores,color=\"black\")\n",
    "\n",
    "plt.show()"
   ]
  }
 ],
 "metadata": {
  "kernelspec": {
   "display_name": "Python 3",
   "language": "python",
   "name": "python3"
  },
  "language_info": {
   "codemirror_mode": {
    "name": "ipython",
    "version": 3
   },
   "file_extension": ".py",
   "mimetype": "text/x-python",
   "name": "python",
   "nbconvert_exporter": "python",
   "pygments_lexer": "ipython3",
   "version": "3.8.5"
  }
 },
 "nbformat": 4,
 "nbformat_minor": 5
}
